{
 "cells": [
  {
   "cell_type": "code",
   "execution_count": 1,
   "id": "0b5f2796-4f9e-4bfe-a160-7cadc3598e38",
   "metadata": {},
   "outputs": [
    {
     "ename": "SyntaxError",
     "evalue": "cannot assign to comparison (770269042.py, line 3)",
     "output_type": "error",
     "traceback": [
      "\u001b[0;36m  Cell \u001b[0;32mIn[1], line 3\u001b[0;36m\u001b[0m\n\u001b[0;31m    i>s='Tommy'\u001b[0m\n\u001b[0m    ^\u001b[0m\n\u001b[0;31mSyntaxError\u001b[0m\u001b[0;31m:\u001b[0m cannot assign to comparison\n"
     ]
    }
   ],
   "source": [
    "#Q1\n",
    "\n",
    "i>s='Tommy'\n",
    "ii>l=[1,2,3,4,5]\n",
    "iii>f=99.99\n",
    "iv>t=(1,2,3,4)\n"
   ]
  },
  {
   "cell_type": "code",
   "execution_count": 2,
   "id": "8c28e2c1-bcfa-4ba7-847c-7ec05e4bedf9",
   "metadata": {},
   "outputs": [],
   "source": [
    "#Q2\n",
    "\n",
    "i>str\n",
    "ii>str\n",
    "iii>list\n",
    "iv>int"
   ]
  },
  {
   "cell_type": "code",
   "execution_count": null,
   "id": "3759920c-3996-49aa-a071-2f50e1e290a7",
   "metadata": {},
   "outputs": [],
   "source": [
    "#Q3\n",
    "\n",
    "i> /--It is used for Division \n",
    "\n",
    "a=2\n",
    "b=3\n",
    "\n",
    "b/a\n",
    "\n",
    "Output-1.5\n",
    "\n",
    "ii> %--Modulus--It will give the remainder\n",
    "\n",
    "a=10\n",
    "b=5\n",
    "\n",
    "a%b\n",
    "\n",
    "OUTPUT--0\n",
    "\n",
    "\n",
    "iii>//--Floor division\t\n",
    "\n",
    "a=10\n",
    "b=5\n",
    "\n",
    "a//b\n",
    "\n",
    "OUTPUT--2\n",
    "\n",
    "\n",
    "iv> **--It is used for exponential opertaion\n",
    "\n",
    "a=2\n",
    "\n",
    "b=a**2\n",
    "\n",
    "OUTPUT-4"
   ]
  },
  {
   "cell_type": "code",
   "execution_count": 11,
   "id": "7fdc949a-defb-4cba-afb0-bf6aff9da1e2",
   "metadata": {},
   "outputs": [
    {
     "name": "stdout",
     "output_type": "stream",
     "text": [
      "1 <class 'int'>\n",
      "2 <class 'int'>\n",
      "3 <class 'int'>\n",
      "4.444 <class 'float'>\n",
      "5 <class 'int'>\n",
      "6 <class 'int'>\n",
      "7 <class 'int'>\n",
      "8 <class 'int'>\n",
      "T <class 'str'>\n",
      "(3+9j) <class 'complex'>\n"
     ]
    }
   ],
   "source": [
    "#Q4\n",
    "\n",
    "l=[1,2,3,4.444,5,6,7,8,\"T\",3+9j]\n",
    "\n",
    "for i in l:\n",
    "    print (i, type(i))"
   ]
  },
  {
   "cell_type": "code",
   "execution_count": null,
   "id": "dbbee4a7-90dc-4d0c-9ae4-7b29e1dc2f5c",
   "metadata": {},
   "outputs": [],
   "source": [
    "#Q5\n",
    "\n",
    "a=10\n",
    "b=100\n",
    "\n",
    "i=0\n",
    "\n",
    "while(b%a==0):\n",
    "    i+=1\n",
    "    \n",
    "print(i)"
   ]
  },
  {
   "cell_type": "code",
   "execution_count": 17,
   "id": "36ec43b2-69ad-4c70-b7e5-3a02311512b7",
   "metadata": {},
   "outputs": [
    {
     "name": "stdout",
     "output_type": "stream",
     "text": [
      "1 is not divisble by 3\n",
      "2 is not divisble by 3\n",
      "3 is divisble by 3\n",
      "4 is not divisble by 3\n",
      "5 is not divisble by 3\n",
      "6 is divisble by 3\n",
      "7 is not divisble by 3\n",
      "8 is not divisble by 3\n",
      "9 is divisble by 3\n",
      "10 is not divisble by 3\n",
      "11 is not divisble by 3\n",
      "12 is divisble by 3\n",
      "13 is not divisble by 3\n",
      "14 is not divisble by 3\n",
      "15 is divisble by 3\n",
      "16 is not divisble by 3\n",
      "17 is not divisble by 3\n",
      "18 is divisble by 3\n",
      "19 is not divisble by 3\n",
      "20 is not divisble by 3\n",
      "21 is divisble by 3\n",
      "22 is not divisble by 3\n",
      "23 is not divisble by 3\n",
      "24 is divisble by 3\n",
      "25 is not divisble by 3\n"
     ]
    }
   ],
   "source": [
    "#Q6\n",
    "\n",
    "l1=range(1,26)\n",
    "\n",
    "for i in l1:\n",
    "    if(i%3==0):\n",
    "         print (i,\"is divisble by 3\")\n",
    "    else:\n",
    "         print (i,\"is not divisble by 3\")"
   ]
  },
  {
   "cell_type": "code",
   "execution_count": 14,
   "id": "1a17e3ad-8fb2-41e1-af3d-fef13a7e9d57",
   "metadata": {},
   "outputs": [
    {
     "data": {
      "text/plain": [
       "range(1, 26)"
      ]
     },
     "execution_count": 14,
     "metadata": {},
     "output_type": "execute_result"
    }
   ],
   "source": [
    "#Q7\n",
    "\n",
    "MUTABLE data Type :Mutable is when something is changeable or has the ability to change. In Python, ‘mutable’ is the ability of objects to change their values.\n",
    "Eg: List is Mutable\n",
    "\n",
    "l=[1,2,3,4]\n",
    "\n",
    "l[0]=5\n",
    "\n",
    "now l=[5,2,3,4]\n",
    "\n",
    "\n",
    "Immmutable Data Type : Immutable is the when no change is possible over time. In Python, if the value of an object cannot be changed over time, then it is known as immutable. Once created, the value of these objects is permanent.\n",
    "\n",
    "Eg: String, Tuple\n",
    "\n",
    "s=\"Tommy\"\n",
    "\n",
    "s[0]='A'\n",
    "\n",
    "now s=\"Tommy\"\n"
   ]
  },
  {
   "cell_type": "code",
   "execution_count": null,
   "id": "88a8f719-6cff-4ab0-9776-d6aafafa1ab4",
   "metadata": {},
   "outputs": [],
   "source": []
  },
  {
   "cell_type": "code",
   "execution_count": null,
   "id": "39a69aa4-f086-4150-ba69-bcd71472d017",
   "metadata": {},
   "outputs": [],
   "source": []
  },
  {
   "cell_type": "code",
   "execution_count": null,
   "id": "925371b6-636e-45fc-b059-40294245b0ca",
   "metadata": {},
   "outputs": [],
   "source": []
  },
  {
   "cell_type": "code",
   "execution_count": null,
   "id": "464274bb-f7cc-4644-b622-be0a917663cc",
   "metadata": {},
   "outputs": [],
   "source": []
  },
  {
   "cell_type": "code",
   "execution_count": null,
   "id": "a4a13a83-e4cc-45f4-bb9b-88af040aa724",
   "metadata": {},
   "outputs": [],
   "source": []
  },
  {
   "cell_type": "code",
   "execution_count": null,
   "id": "de71617c-4aab-4fdb-bc91-7d52f860ea2e",
   "metadata": {},
   "outputs": [],
   "source": []
  },
  {
   "cell_type": "code",
   "execution_count": null,
   "id": "f250270a-cca1-454e-ba52-8f8eb6480de0",
   "metadata": {},
   "outputs": [],
   "source": []
  }
 ],
 "metadata": {
  "kernelspec": {
   "display_name": "Python 3 (ipykernel)",
   "language": "python",
   "name": "python3"
  },
  "language_info": {
   "codemirror_mode": {
    "name": "ipython",
    "version": 3
   },
   "file_extension": ".py",
   "mimetype": "text/x-python",
   "name": "python",
   "nbconvert_exporter": "python",
   "pygments_lexer": "ipython3",
   "version": "3.10.8"
  }
 },
 "nbformat": 4,
 "nbformat_minor": 5
}
